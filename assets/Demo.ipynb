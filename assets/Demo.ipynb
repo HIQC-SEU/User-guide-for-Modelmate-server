{
 "cells": [
  {
   "cell_type": "markdown",
   "id": "fbc3a973-0d79-40e5-9d31-d479b93303c2",
   "metadata": {
    "cellMetadata": {
     "id": "cell-da7bb8e3-893c-4333-8af3-8935d4e1d359",
     "index": 0,
     "type": "text"
    },
    "nodeMetadata": {
     "groupId": "cell-group-e33e1e16-1578-42b3-8a32-b714633c876c",
     "type": "custom-text"
    },
    "tags": []
   },
   "source": [
    "# 这是一个Jupyter示例\n",
    "## 这是一个Jupyter示例\n",
    "### 这是一个Jupyter示例\n",
    "### 这是一个Jupyter示例\n",
    "##### 这是一个Jupyter示例\n",
    "###### 这是一个Jupyter示例\n",
    "\n",
    "\n",
    "这是一个Jupyter示例\n",
    "\n"
   ]
  },
  {
   "cell_type": "markdown",
   "id": "793b851f-72ba-4a9c-8969-773814e66677",
   "metadata": {
    "cellMetadata": {
     "id": "cell-c101a87d-fddd-4542-bf98-20a9f5742f39",
     "index": 0,
     "type": "text"
    },
    "nodeMetadata": {
     "groupId": "cell-group-22588e71-849b-4228-97af-8dd5aeca37a5",
     "type": "custom-text"
    },
    "tags": []
   },
   "source": [
    " ## 依赖包的导入\n",
    "可以使用 import导入整个包，也可以使用from ** import *** 导入某个包里的特定函数或类"
   ]
  },
  {
   "cell_type": "code",
   "execution_count": 1,
   "id": "52a3ee6a-9b34-4536-8190-b306d503ba92",
   "metadata": {
    "nodeMetadata": {
     "formData": {
      "items": []
     },
     "returnData": {
      "dataflow": [],
      "dataflows": [],
      "datareference": []
     }
    }
   },
   "outputs": [],
   "source": [
    "# Import Module\n",
    "from numpy import loadtxt # 从numpy库中导入loadtxt函数\n",
    "from tensorflow.keras.models import Sequential # 从tensorflow.keras.models模块中导入Sequential类\n",
    "from tensorflow.keras.layers import Dense\n",
    "\n",
    "from manas.model2.metadata.model_spec import ModelSpec\n",
    "from manas.model2.metadata.ParameterBuilder import ParameterBuilder\n",
    "from manas.model2.metadata.metadataBuilder import MetaDataBuilder\n",
    "from manas.model2 import repository  as model2"
   ]
  },
  {
   "cell_type": "markdown",
   "id": "c854ca84-9be3-4a76-b705-57fe5b1cbb8c",
   "metadata": {
    "cellMetadata": {
     "id": "cell-fa683752-5008-410a-8dbc-2885e4d1752e",
     "index": 0,
     "type": "text"
    },
    "nodeMetadata": {
     "groupId": "cell-group-48ad67e2-0b44-4a71-bbda-2dd34a72e6ab",
     "type": "custom-text"
    },
    "tags": []
   },
   "source": [
    "依赖导入时的常见错误\n",
    "\n",
    "ModuleNotFoundError: No module named ‘ *** ‘"
   ]
  },
  {
   "cell_type": "code",
   "execution_count": 8,
   "id": "fecd58aa-d857-4bc8-9e9a-b1042eeb6d4d",
   "metadata": {
    "cellMetadata": {
     "id": "cell-4265efe2-6039-4cc2-b1e4-889d076ad15e",
     "index": 0,
     "type": "code"
    },
    "nodeMetadata": {
     "formData": {
      "items": []
     },
     "groupId": "cell-group-cc370aa1-bd61-4ddb-9974-d808506323a4",
     "returnData": {
      "dataflow": [],
      "dataflows": [],
      "datareference": []
     },
     "type": "custom-code"
    },
    "runtime": {
     "status": "success"
    },
    "tags": []
   },
   "outputs": [
    {
     "name": "stdout",
     "output_type": "stream",
     "text": [
      "/usr/bin/sh: line 1: conda: command not found\n"
     ]
    }
   ],
   "source": [
    "! conda list"
   ]
  },
  {
   "cell_type": "markdown",
   "id": "451dc1a3-407e-4934-9869-6a57d5ffef30",
   "metadata": {
    "cellMetadata": {
     "id": "cell-0f4018ce-1d32-4222-8329-39e366dde865",
     "index": 0,
     "type": "text"
    },
    "nodeMetadata": {
     "groupId": "cell-group-5e28f6d8-277a-4802-9789-6c37843d5a36",
     "type": "custom-text"
    },
    "tags": []
   },
   "source": [
    "## 定义数据集读取函数，这里的示例为文本序列数据。"
   ]
  },
  {
   "cell_type": "code",
   "execution_count": 2,
   "id": "255c023a-d143-465a-8e36-043d5ae7a1f8",
   "metadata": {
    "cellMetadata": {
     "id": "cell-340f7f25-9d6e-47d3-b29b-077c21c92704",
     "index": 0,
     "type": "code"
    },
    "nodeMetadata": {
     "formData": {
      "items": []
     },
     "groupId": "cell-group-b4ec61ad-60d3-4cdc-922c-ccedd944779e",
     "returnData": {
      "dataflow": [],
      "dataflows": [],
      "datareference": []
     },
     "type": "custom-code"
    },
    "tags": []
   },
   "outputs": [],
   "source": [
    "def read_dataset(data_path):  # data_path: str，数据集文件的路径\n",
    "    # Data reading\n",
    "    dataset = loadtxt(data_path, delimiter=',')\n",
    "    x = dataset[:,0:8] # x: numpy.ndarray，特征\n",
    "    y = dataset[:,8] # y: numpy.ndarray，标签\n",
    "    return x, y"
   ]
  },
  {
   "cell_type": "markdown",
   "id": "c7bed698-4d2c-4861-b216-8e986e0a1d6a",
   "metadata": {
    "cellMetadata": {
     "id": "cell-aa943303-b284-46fd-8a28-c843502312be",
     "index": 0,
     "type": "text"
    },
    "nodeMetadata": {
     "groupId": "cell-group-38639f7f-7709-42db-91e7-9aff59984fa8",
     "type": "custom-text"
    },
    "tags": []
   },
   "source": [
    "## 定义模型训练函数\n"
   ]
  },
  {
   "cell_type": "code",
   "execution_count": 3,
   "id": "e63985d2-99fe-4484-8b17-f654bb6363d1",
   "metadata": {
    "cellMetadata": {
     "id": "cell-e40a5913-15c8-47a7-8c5c-9bc0dfb4f993",
     "index": 0,
     "type": "code"
    },
    "nodeMetadata": {
     "formData": {
      "items": []
     },
     "groupId": "cell-group-d284f739-8c9a-4d72-8c00-5e5ad3228947",
     "returnData": {
      "dataflow": [],
      "dataflows": [],
      "datareference": []
     },
     "type": "custom-code"
    },
    "tags": []
   },
   "outputs": [],
   "source": [
    "def train_model(x, y):\n",
    "    # Train Model\n",
    "    model = Sequential() # 定义模型为Sequential类模型\n",
    "    model.add(Dense(12, input_shape=(8,), activation='relu')) # 添加输入层和第一个隐藏层，8个输入节点，12个隐藏层节点，激活函数为ReLU\n",
    "    model.add(Dense(8, activation='relu')) # 添加第二个隐藏层，8个隐藏层节点，激活函数为ReLU\n",
    "    model.add(Dense(1, activation='sigmoid')) # 添加输出层，1个节点，激活函数为sigmoid\n",
    "    model.compile(loss='binary_crossentropy', optimizer='adam', metrics=['accuracy'])  # 编译模型，使用binary_crossentropy损失函数，优化器为adam，评估指标为accuracy\n",
    "    model.fit(x, y, epochs=50, batch_size=10) # 训练模型，迭代50次，每批次10个样本\n",
    "    return model"
   ]
  },
  {
   "cell_type": "markdown",
   "id": "b8ef4282-6551-4e1c-ad2e-5bf787b59849",
   "metadata": {
    "cellMetadata": {
     "id": "cell-05ec3cf6-a98f-4ed9-a9a8-5ec0e2231e2e",
     "index": 0,
     "type": "text"
    },
    "nodeMetadata": {
     "groupId": "cell-group-12fdf85d-9864-4f7f-b2b6-7fbb78169b9d",
     "type": "custom-text"
    },
    "tags": []
   },
   "source": [
    "## 定义模型评估函数\n",
    "\n",
    "评估函数为损失函数\n",
    "\n",
    "评价指标为模型的准确率"
   ]
  },
  {
   "cell_type": "code",
   "execution_count": 4,
   "id": "ec6491e1-aad7-4ee6-ad2f-dc92af3e497c",
   "metadata": {
    "cellMetadata": {
     "id": "cell-afa32c8c-fd84-42ba-8e80-52c2cca438b7",
     "index": 0,
     "type": "code"
    },
    "nodeMetadata": {
     "formData": {
      "items": []
     },
     "groupId": "cell-group-2d44183a-cda1-4080-93e1-bd72c6dead2a",
     "returnData": {
      "dataflow": [],
      "dataflows": [],
      "datareference": []
     },
     "type": "custom-code"
    },
    "tags": []
   },
   "outputs": [],
   "source": [
    "def evaluate_model(model, x, y): \n",
    "    # Evaluating model\n",
    "    score = model.evaluate(x, y) # 调用Sequential类自带的evaluate函数\n",
    "    return score"
   ]
  },
  {
   "cell_type": "markdown",
   "id": "0e8bb603-fa49-40e8-b997-65ced955bd72",
   "metadata": {
    "cellMetadata": {
     "id": "cell-7f42914a-92b4-424c-9f15-e872171d6020",
     "index": 0,
     "type": "text"
    },
    "nodeMetadata": {
     "groupId": "cell-group-7679f287-1166-4c4f-856e-0864d2d87a8e",
     "type": "custom-text"
    },
    "tags": []
   },
   "source": [
    "## 定义模型保存函数"
   ]
  },
  {
   "cell_type": "code",
   "execution_count": 5,
   "id": "6dbc03fa-34eb-4bbd-83e4-e89c5c98b7be",
   "metadata": {
    "cellMetadata": {
     "id": "cell-299172a6-c573-4a07-b084-4e63272a30a3",
     "index": 0,
     "type": "code"
    },
    "nodeMetadata": {
     "formData": {
      "items": []
     },
     "groupId": "cell-group-6dc83839-3f7c-4d7b-a753-f127f3f919c7",
     "returnData": {
      "dataflow": [],
      "dataflows": [],
      "datareference": []
     },
     "type": "custom-code"
    },
    "tags": []
   },
   "outputs": [],
   "source": [
    "def save_model(model, save_path):\n",
    "    # Save Model\n",
    "    model.save(save_path) # 保存模型到指定路径"
   ]
  },
  {
   "cell_type": "code",
   "execution_count": 6,
   "id": "47f408ac-1aca-4b4f-bd94-5f7272268d73",
   "metadata": {
    "cellMetadata": {
     "id": "cell-9f3b3741-0460-4392-8f8e-1f6f8c692781",
     "index": 0,
     "type": "code"
    },
    "nodeMetadata": {
     "formData": {
      "items": []
     },
     "groupId": "cell-group-c0c71303-5adb-4d11-97e8-e3eff8872475",
     "returnData": {
      "dataflow": [],
      "dataflows": [],
      "datareference": []
     },
     "type": "custom-code"
    },
    "tags": []
   },
   "outputs": [],
   "source": [
    "def register_model(save_path): # 注册模型到模型管理平台\n",
    "    # Registering Model\n",
    "    model_spec = ModelSpec.Builder().name(\"keras_demo\").type(\"tensorflow-pb\").model_version(\"1.0.1\").build()\n",
    "    metadata = MetaDataBuilder().model_spec(model_spec).build()\n",
    "    param = ParameterBuilder().model(save_path).metadata(metadata).build()\n",
    "    result = model2.modelRegister(param)\n",
    "    return result"
   ]
  },
  {
   "cell_type": "code",
   "execution_count": null,
   "id": "c29ddfb4-76f3-4d0b-baa7-f8ee43964f4b",
   "metadata": {
    "cellMetadata": {
     "id": "cell-31560a6b-fa64-4b95-8006-866733d11841",
     "index": 0,
     "type": "code"
    },
    "nodeMetadata": {
     "formData": {
      "items": []
     },
     "groupId": "cell-group-15485729-cfa4-4869-b23c-1a5b6aeb7d39",
     "returnData": {
      "dataflow": [],
      "dataflows": [],
      "datareference": []
     },
     "type": "custom-code"
    },
    "tags": []
   },
   "outputs": [],
   "source": [
    "print(\"[MANAS] ---> get train dataset and predict dataset\")\n",
    "local_file = \"/dls/app/input/tensorflow_demo_data.csv\"\n",
    "x, y = read_dataset(local_file)\n",
    "\n",
    "print(\"[MANAS] ---> train model\")\n",
    "model = train_model(x, y)\n",
    "\n",
    "print(\"[MANAS] ---> evaluate model\")\n",
    "result = evaluate_model(model, x, y)\n",
    "print(\"evaluate result:\", result)\n",
    "\n",
    "print(\"[MANAS] ---> do save model\")\n",
    "save_path = \"/dls/app/model/keras_demo/\"\n",
    "save_model(model, save_path)\n",
    "\n",
    "print(\"[MANAS] ---> register model\")\n",
    "register_model(save_path)\n",
    "\n",
    "print(\"[MANAS] ---> Manas training end\")"
   ]
  }
 ],
 "metadata": {
  "kernelspec": {
   "display_name": "Python 3 (ipykernel)",
   "language": "python",
   "name": "python3"
  },
  "language_info": {
   "codemirror_mode": {
    "name": "ipython",
    "version": 3
   },
   "file_extension": ".py",
   "mimetype": "text/x-python",
   "name": "python",
   "nbconvert_exporter": "python",
   "pygments_lexer": "ipython3",
   "version": "3.9.11"
  }
 },
 "nbformat": 4,
 "nbformat_minor": 5
}
